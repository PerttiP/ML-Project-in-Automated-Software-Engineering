{
  "nbformat": 4,
  "nbformat_minor": 0,
  "metadata": {
    "colab": {
      "provenance": [],
      "mount_file_id": "1zlt_vf_3xil4KVlykX6LCZ5qd1AigcAX",
      "authorship_tag": "ABX9TyPwhlK9pJK7DU2YTWS6tfZs",
      "include_colab_link": true
    },
    "kernelspec": {
      "name": "python3",
      "display_name": "Python 3"
    },
    "language_info": {
      "name": "python"
    }
  },
  "cells": [
    {
      "cell_type": "markdown",
      "metadata": {
        "id": "view-in-github",
        "colab_type": "text"
      },
      "source": [
        "<a href=\"https://colab.research.google.com/github/PerttiP/ML-Project-in-Automated-Software-Engineering/blob/main/PerttiTrainingModel2_KerasSeq_24features.ipynb\" target=\"_parent\"><img src=\"https://colab.research.google.com/assets/colab-badge.svg\" alt=\"Open In Colab\"/></a>"
      ]
    },
    {
      "cell_type": "code",
      "source": [
        "'''\n",
        "PerttiTrainingModel2_KerasSeq_24features\n",
        "Google Colab version\n",
        "----------------------------------------\n",
        "IMPORTANT PRE-REQUISITE:\n",
        "Please first prepare Pandas dataframe by running PerttiPrepareData24features.ipynb\n",
        "which will create the input file PrepDataframe24features.csv\n",
        "------------------------------------------------------------------------------\n",
        "Test run options:\n",
        "OPT1. Enable Data augmentation.\n",
        "OPT2. Enable resampling with SMOTE.\n",
        "\n",
        "Updates:\n",
        "UPD1. With extended data feature \"absolute code churn measure\" : code_churn.\n",
        "UPD2. With feature selection (Removed redundant data).\n",
        "'''\n",
        "\n",
        "import numpy as np # linear algebra\n",
        "import pandas as pd # data processing, CSV file I/O (e.g. pd.read_csv)\n",
        "import seaborn as sb # visualization\n",
        "import matplotlib.pyplot as plot"
      ],
      "metadata": {
        "id": "jQtoS8tiriTL"
      },
      "execution_count": null,
      "outputs": []
    },
    {
      "cell_type": "markdown",
      "source": [
        "THIS TEST IS RESAMPLING DATA TO AVOID IMBALANCED DATA!!!\n",
        "\n",
        "This DNN Model is using SMOTE as a resampling technique.\n",
        "\n",
        "Using Keras API with TensorFlow backend."
      ],
      "metadata": {
        "id": "FEqNkQoru9cN"
      }
    },
    {
      "cell_type": "code",
      "source": [
        "# Install & Import imbalanced-learn library\n",
        "!pip install -q scikit-learn imblearn\n",
        "\n",
        "import imblearn\n",
        "print(imblearn.__version__)"
      ],
      "metadata": {
        "colab": {
          "base_uri": "https://localhost:8080/"
        },
        "id": "pEBq8NuS4YKB",
        "outputId": "cdeee672-6750-4b4e-a04b-f480eae5a45d"
      },
      "execution_count": null,
      "outputs": [
        {
          "output_type": "stream",
          "name": "stdout",
          "text": [
            "0.10.1\n"
          ]
        }
      ]
    },
    {
      "cell_type": "code",
      "source": [
        "# Mount my Google Drive into Colab\n",
        "# from google.colab import drive\n",
        "# FIXME: MessageError: Error: credential propagation was unsuccessful\n",
        "# drive.mount('/content/drive')\n",
        "'''\n",
        "from pathlib import Path\n",
        "current_work_directory = Path.cwd()\n",
        "print(\"The current working directory is:\", current_work_directory)\n",
        "print(Path().absolute())\n",
        "'''\n",
        "# C:\\Users\\<USERID>\\.keras"
      ],
      "metadata": {
        "id": "WXRoPfhC7xFQ",
        "colab": {
          "base_uri": "https://localhost:8080/"
        },
        "outputId": "310da02b-89ef-4764-a284-7fa494d77268"
      },
      "execution_count": null,
      "outputs": [
        {
          "output_type": "stream",
          "name": "stdout",
          "text": [
            "The current working directory is: /content\n",
            "/content\n",
            "%USERPROFILE%\n"
          ]
        }
      ]
    },
    {
      "cell_type": "code",
      "source": [
        "# Upload file to Colab\n",
        "# https://towardsdatascience.com/3-ways-to-load-csv-files-into-colab-7c14fcbdcb92\n",
        "\n",
        "from google.colab import files\n",
        "uploaded = files.upload()"
      ],
      "metadata": {
        "colab": {
          "base_uri": "https://localhost:8080/",
          "height": 74
        },
        "id": "tKOPG9Y0tXL_",
        "outputId": "faad1f79-bbbf-4af7-9fd4-23b0fc3da7ce"
      },
      "execution_count": null,
      "outputs": [
        {
          "output_type": "display_data",
          "data": {
            "text/plain": [
              "<IPython.core.display.HTML object>"
            ],
            "text/html": [
              "\n",
              "     <input type=\"file\" id=\"files-bc4d9454-287a-4a1e-8b32-60700c0bb93a\" name=\"files[]\" multiple disabled\n",
              "        style=\"border:none\" />\n",
              "     <output id=\"result-bc4d9454-287a-4a1e-8b32-60700c0bb93a\">\n",
              "      Upload widget is only available when the cell has been executed in the\n",
              "      current browser session. Please rerun this cell to enable.\n",
              "      </output>\n",
              "      <script>// Copyright 2017 Google LLC\n",
              "//\n",
              "// Licensed under the Apache License, Version 2.0 (the \"License\");\n",
              "// you may not use this file except in compliance with the License.\n",
              "// You may obtain a copy of the License at\n",
              "//\n",
              "//      http://www.apache.org/licenses/LICENSE-2.0\n",
              "//\n",
              "// Unless required by applicable law or agreed to in writing, software\n",
              "// distributed under the License is distributed on an \"AS IS\" BASIS,\n",
              "// WITHOUT WARRANTIES OR CONDITIONS OF ANY KIND, either express or implied.\n",
              "// See the License for the specific language governing permissions and\n",
              "// limitations under the License.\n",
              "\n",
              "/**\n",
              " * @fileoverview Helpers for google.colab Python module.\n",
              " */\n",
              "(function(scope) {\n",
              "function span(text, styleAttributes = {}) {\n",
              "  const element = document.createElement('span');\n",
              "  element.textContent = text;\n",
              "  for (const key of Object.keys(styleAttributes)) {\n",
              "    element.style[key] = styleAttributes[key];\n",
              "  }\n",
              "  return element;\n",
              "}\n",
              "\n",
              "// Max number of bytes which will be uploaded at a time.\n",
              "const MAX_PAYLOAD_SIZE = 100 * 1024;\n",
              "\n",
              "function _uploadFiles(inputId, outputId) {\n",
              "  const steps = uploadFilesStep(inputId, outputId);\n",
              "  const outputElement = document.getElementById(outputId);\n",
              "  // Cache steps on the outputElement to make it available for the next call\n",
              "  // to uploadFilesContinue from Python.\n",
              "  outputElement.steps = steps;\n",
              "\n",
              "  return _uploadFilesContinue(outputId);\n",
              "}\n",
              "\n",
              "// This is roughly an async generator (not supported in the browser yet),\n",
              "// where there are multiple asynchronous steps and the Python side is going\n",
              "// to poll for completion of each step.\n",
              "// This uses a Promise to block the python side on completion of each step,\n",
              "// then passes the result of the previous step as the input to the next step.\n",
              "function _uploadFilesContinue(outputId) {\n",
              "  const outputElement = document.getElementById(outputId);\n",
              "  const steps = outputElement.steps;\n",
              "\n",
              "  const next = steps.next(outputElement.lastPromiseValue);\n",
              "  return Promise.resolve(next.value.promise).then((value) => {\n",
              "    // Cache the last promise value to make it available to the next\n",
              "    // step of the generator.\n",
              "    outputElement.lastPromiseValue = value;\n",
              "    return next.value.response;\n",
              "  });\n",
              "}\n",
              "\n",
              "/**\n",
              " * Generator function which is called between each async step of the upload\n",
              " * process.\n",
              " * @param {string} inputId Element ID of the input file picker element.\n",
              " * @param {string} outputId Element ID of the output display.\n",
              " * @return {!Iterable<!Object>} Iterable of next steps.\n",
              " */\n",
              "function* uploadFilesStep(inputId, outputId) {\n",
              "  const inputElement = document.getElementById(inputId);\n",
              "  inputElement.disabled = false;\n",
              "\n",
              "  const outputElement = document.getElementById(outputId);\n",
              "  outputElement.innerHTML = '';\n",
              "\n",
              "  const pickedPromise = new Promise((resolve) => {\n",
              "    inputElement.addEventListener('change', (e) => {\n",
              "      resolve(e.target.files);\n",
              "    });\n",
              "  });\n",
              "\n",
              "  const cancel = document.createElement('button');\n",
              "  inputElement.parentElement.appendChild(cancel);\n",
              "  cancel.textContent = 'Cancel upload';\n",
              "  const cancelPromise = new Promise((resolve) => {\n",
              "    cancel.onclick = () => {\n",
              "      resolve(null);\n",
              "    };\n",
              "  });\n",
              "\n",
              "  // Wait for the user to pick the files.\n",
              "  const files = yield {\n",
              "    promise: Promise.race([pickedPromise, cancelPromise]),\n",
              "    response: {\n",
              "      action: 'starting',\n",
              "    }\n",
              "  };\n",
              "\n",
              "  cancel.remove();\n",
              "\n",
              "  // Disable the input element since further picks are not allowed.\n",
              "  inputElement.disabled = true;\n",
              "\n",
              "  if (!files) {\n",
              "    return {\n",
              "      response: {\n",
              "        action: 'complete',\n",
              "      }\n",
              "    };\n",
              "  }\n",
              "\n",
              "  for (const file of files) {\n",
              "    const li = document.createElement('li');\n",
              "    li.append(span(file.name, {fontWeight: 'bold'}));\n",
              "    li.append(span(\n",
              "        `(${file.type || 'n/a'}) - ${file.size} bytes, ` +\n",
              "        `last modified: ${\n",
              "            file.lastModifiedDate ? file.lastModifiedDate.toLocaleDateString() :\n",
              "                                    'n/a'} - `));\n",
              "    const percent = span('0% done');\n",
              "    li.appendChild(percent);\n",
              "\n",
              "    outputElement.appendChild(li);\n",
              "\n",
              "    const fileDataPromise = new Promise((resolve) => {\n",
              "      const reader = new FileReader();\n",
              "      reader.onload = (e) => {\n",
              "        resolve(e.target.result);\n",
              "      };\n",
              "      reader.readAsArrayBuffer(file);\n",
              "    });\n",
              "    // Wait for the data to be ready.\n",
              "    let fileData = yield {\n",
              "      promise: fileDataPromise,\n",
              "      response: {\n",
              "        action: 'continue',\n",
              "      }\n",
              "    };\n",
              "\n",
              "    // Use a chunked sending to avoid message size limits. See b/62115660.\n",
              "    let position = 0;\n",
              "    do {\n",
              "      const length = Math.min(fileData.byteLength - position, MAX_PAYLOAD_SIZE);\n",
              "      const chunk = new Uint8Array(fileData, position, length);\n",
              "      position += length;\n",
              "\n",
              "      const base64 = btoa(String.fromCharCode.apply(null, chunk));\n",
              "      yield {\n",
              "        response: {\n",
              "          action: 'append',\n",
              "          file: file.name,\n",
              "          data: base64,\n",
              "        },\n",
              "      };\n",
              "\n",
              "      let percentDone = fileData.byteLength === 0 ?\n",
              "          100 :\n",
              "          Math.round((position / fileData.byteLength) * 100);\n",
              "      percent.textContent = `${percentDone}% done`;\n",
              "\n",
              "    } while (position < fileData.byteLength);\n",
              "  }\n",
              "\n",
              "  // All done.\n",
              "  yield {\n",
              "    response: {\n",
              "      action: 'complete',\n",
              "    }\n",
              "  };\n",
              "}\n",
              "\n",
              "scope.google = scope.google || {};\n",
              "scope.google.colab = scope.google.colab || {};\n",
              "scope.google.colab._files = {\n",
              "  _uploadFiles,\n",
              "  _uploadFilesContinue,\n",
              "};\n",
              "})(self);\n",
              "</script> "
            ]
          },
          "metadata": {}
        },
        {
          "output_type": "stream",
          "name": "stdout",
          "text": [
            "Saving PrepDataframe24features.csv to PrepDataframe24features.csv\n"
          ]
        }
      ]
    },
    {
      "cell_type": "code",
      "source": [
        "# NOTE: Need to first upload pre-processed data file to Colab, See step 'Upload file to Colab' above!\n",
        "# WARN: For unknown reason the uploaded file name sometimes get an extra id like (1)\n",
        "import io\n",
        "df = pd.read_csv(io.BytesIO(uploaded['PrepDataframe24features.csv']))\n",
        "# df = pd.read_csv(io.BytesIO(uploaded['PrepDataframe.csv']))\n",
        "\n",
        "# Works only for Anaconda:\n",
        "# df = pd.read_csv('PrepDataframe.csv')\n",
        "\n",
        "# Make sure we have values everywhere\n",
        "print(df.isnull().sum().max())\n",
        "\n",
        "# Make sure that column isbuggy is an integer!\n",
        "df['isbuggy'] = df['isbuggy'].astype(int)\n",
        "# print('------- df.dtypes:')\n",
        "# print(df.dtypes)"
      ],
      "metadata": {
        "colab": {
          "base_uri": "https://localhost:8080/"
        },
        "id": "yqdHQkvs6jBY",
        "outputId": "61d98800-3094-4c19-9bf2-455672042350"
      },
      "execution_count": null,
      "outputs": [
        {
          "output_type": "stream",
          "name": "stdout",
          "text": [
            "0\n"
          ]
        }
      ]
    },
    {
      "cell_type": "code",
      "source": [
        "# OPT1. Data augmentation to increase the size of the dataset\n",
        "# -----------------------------------------------------------\n",
        "for i in range(1,5): # Range changed back to 1,5\n",
        "   df = df._append(df) # append is deprecated in newer Pandas"
      ],
      "metadata": {
        "id": "HgcQTlOTfua6"
      },
      "execution_count": null,
      "outputs": []
    },
    {
      "cell_type": "code",
      "source": [
        "print(df.shape)\n",
        "\n",
        "# Supervised Learning: include target (isbuggy) in training data\n",
        "X = df\n",
        "Y = df['isbuggy']\n",
        "# print(Y)\n",
        "\n",
        "# 2. Split into training data (70%) and test data (30%)\n",
        "#    TODO: Split also into validation data?\n",
        "trainSize = int(df.shape[0] * 0.70)\n",
        "\n",
        "# ALTERNATIVE: Split using method from sklearn.model_selection\n",
        "# X_train, X_test, y_train, y_test = train_test_split(X, y, test_size=0.3, random_state=42)\n",
        "\n",
        "trainX = X.iloc[0: trainSize, :]\n",
        "trainY = Y[0: trainSize]\n",
        "\n",
        "testX = X.iloc[trainSize: , :]\n",
        "testY = Y[trainSize: ]\n",
        "\n",
        "print(trainX.shape, trainY.shape)\n",
        "print(testX.shape, testY.shape)"
      ],
      "metadata": {
        "colab": {
          "base_uri": "https://localhost:8080/"
        },
        "id": "GgZqOYC2ro1v",
        "outputId": "8537ee97-e7a0-4157-ae52-1ffc06bbfa3d"
      },
      "execution_count": null,
      "outputs": [
        {
          "output_type": "stream",
          "name": "stdout",
          "text": [
            "(422128, 24)\n",
            "(295489, 24) (295489,)\n",
            "(126639, 24) (126639,)\n"
          ]
        }
      ]
    },
    {
      "cell_type": "code",
      "source": [
        "# OPT2. Oversampling of training data using SMOTE\n",
        "# -----------------------------------------------\n",
        "\n",
        "# Print class distribution counters, to see how imbalanced the dataset is\n",
        "from collections import Counter\n",
        "counter = Counter(trainY)\n",
        "print('Distribution counters BEFORE SMOTE oversampling:')\n",
        "print(counter)\n",
        "\n",
        "from imblearn.over_sampling import SMOTE\n",
        "trainXsmote, trainYsmote = SMOTE().fit_resample(trainX, trainY)\n",
        "\n",
        "# Replace training data with oversampled data:\n",
        "trainX = trainXsmote\n",
        "trainY = trainYsmote\n",
        "\n",
        "counter = Counter(trainYsmote)\n",
        "print('Distribution counters AFTER SMOTE oversampling:')\n",
        "print(counter)"
      ],
      "metadata": {
        "colab": {
          "base_uri": "https://localhost:8080/"
        },
        "id": "6aCihURO5Sus",
        "outputId": "422ad134-c1e4-410b-c890-ab6c625bfbea"
      },
      "execution_count": null,
      "outputs": [
        {
          "output_type": "stream",
          "name": "stdout",
          "text": [
            "Distribution counters BEFORE SMOTE oversampling:\n",
            "Counter({0: 253468, 1: 42021})\n",
            "Distribution counters AFTER SMOTE oversampling:\n",
            "Counter({0: 253468, 1: 253468})\n"
          ]
        }
      ]
    },
    {
      "cell_type": "code",
      "source": [
        "# Data Transforms\n",
        "# https://scikit-learn.org/stable/data_transforms.html\n",
        "\n",
        "# Similar to the z-score method but involving simpler computation is the max-min method that\n",
        "# computes the normalized feature value\n",
        "\n",
        "# Normalization Step\n",
        "from sklearn.preprocessing import StandardScaler\n",
        "scaler = StandardScaler()\n",
        "# Perform fit only on training data!\n",
        "trainX = scaler.fit_transform(trainX.values)\n",
        "print(trainX)\n",
        "\n",
        "# Apply same transformation to test data (but do not use fit)!\n",
        "testX = scaler.transform(testX.values)\n",
        "print(testX)"
      ],
      "metadata": {
        "colab": {
          "base_uri": "https://localhost:8080/"
        },
        "id": "I42T_j6BOIqt",
        "outputId": "78ce66b2-9350-4a9e-b84b-0a76a2d42b3b"
      },
      "execution_count": null,
      "outputs": [
        {
          "output_type": "stream",
          "name": "stdout",
          "text": [
            "[[-0.0502896  -0.07904435 -0.07925173 ...  0.7341533  -1.\n",
            "  -0.06927956]\n",
            " [-0.05079758 -0.09426927 -0.1490914  ...  0.60450515 -1.\n",
            "  -0.07173552]\n",
            " [-0.04774971 -0.07904435 -0.07925173 ... -0.31807186 -1.\n",
            "  -0.06878836]\n",
            " ...\n",
            " [-0.0502896  -0.09426927 -0.1490914  ... -0.33831159  1.\n",
            "  -0.07075313]\n",
            " [-0.00914334 -0.09426927 -0.1490914  ... -0.12165888  1.\n",
            "  -0.03219448]\n",
            " [-0.00711143  0.04275507  0.409626   ...  2.18242502  1.\n",
            "  -0.02605457]]\n",
            "[[-0.0431779  -0.07904435 -0.07925173 ...  2.22684645 -1.\n",
            "  -0.06952515]\n",
            " [-0.0457178  -0.04859449  0.06042763 ...  1.90811978 -1.\n",
            "  -0.05945569]\n",
            " [-0.017271   -0.06381942 -0.07925173 ...  0.03844862  1.\n",
            "  -0.04373752]\n",
            " ...\n",
            " [-0.04774971 -0.06381942 -0.00941205 ...  2.39887256 -1.\n",
            "  -0.06977075]\n",
            " [-0.0502896  -0.07904435 -0.1490914  ... -0.76434746 -1.\n",
            "  -0.07075313]\n",
            " [-0.0502896  -0.07904435 -0.07925173 ... -0.57507719 -1.\n",
            "  -0.07001635]]\n"
          ]
        }
      ]
    },
    {
      "cell_type": "code",
      "execution_count": null,
      "metadata": {
        "colab": {
          "base_uri": "https://localhost:8080/",
          "height": 1000
        },
        "id": "qOr9CCuYqf8I",
        "outputId": "f6e5dfdc-b81d-46c4-a2b0-48c3dae37bc5"
      },
      "outputs": [
        {
          "output_type": "stream",
          "name": "stdout",
          "text": [
            "trainX.shape[1:]:  (24,)\n",
            "Model: \"sequential_1\"\n",
            "_________________________________________________________________\n",
            " Layer (type)                Output Shape              Param #   \n",
            "=================================================================\n",
            " dense_4 (Dense)             (None, 256)               6400      \n",
            "                                                                 \n",
            " dense_5 (Dense)             (None, 256)               65792     \n",
            "                                                                 \n",
            " dropout_2 (Dropout)         (None, 256)               0         \n",
            "                                                                 \n",
            " dense_6 (Dense)             (None, 256)               65792     \n",
            "                                                                 \n",
            " dropout_3 (Dropout)         (None, 256)               0         \n",
            "                                                                 \n",
            " dense_7 (Dense)             (None, 1)                 257       \n",
            "                                                                 \n",
            "=================================================================\n",
            "Total params: 138241 (540.00 KB)\n",
            "Trainable params: 138241 (540.00 KB)\n",
            "Non-trainable params: 0 (0.00 Byte)\n",
            "_________________________________________________________________\n",
            "None\n"
          ]
        },
        {
          "output_type": "execute_result",
          "data": {
            "image/png": "[encoded data removed]",
            "text/plain": [
              "<IPython.core.display.Image object>"
            ]
          },
          "metadata": {},
          "execution_count": 17
        }
      ],
      "source": [
        "# Import keras like this?:\n",
        "# REF: https://machinelearningmastery.com/three-ways-to-build-machine-learning-models-in-keras/\n",
        "from tensorflow import keras\n",
        "\n",
        "# For Keras version 3 only? -> https://keras.io/guides/migrating_to_keras_3/\n",
        "# Or import keras like this, configuring the backend?:\n",
        "# REF: https://keras.io/getting_started/\n",
        "'''\n",
        "import os\n",
        "os.environ[\"KERAS_BACKEND\"] = \"tensorflow\"\n",
        "import keras\n",
        "'''\n",
        "\n",
        "# To keep using Keras version 2? -> https://blog.tensorflow.org/2024/03/whats-new-in-tensorflow-216.html\n",
        "# os.environ['TF_USE_LEGACY_KERAS'] = '1'\n",
        "\n",
        "from keras.models import Sequential\n",
        "from keras.layers import Dense, Dropout, Activation\n",
        "\n",
        "# How many features do we have?\n",
        "print('trainX.shape[1:]: ', trainX.shape[1:])\n",
        "\n",
        "# ATTEMPT TWO using Keras version 2 or 3\n",
        "# Build a binary classification model\n",
        "# REF: https://keras.io/examples/structured_data/imbalanced_classification/\n",
        "model = keras.Sequential(\n",
        "    [\n",
        "        keras.Input(shape=trainX.shape[1:]),\n",
        "        keras.layers.Dense(256, activation=\"relu\"),\n",
        "        keras.layers.Dense(256, activation=\"relu\"),\n",
        "        keras.layers.Dropout(0.3),\n",
        "        keras.layers.Dense(256, activation=\"relu\"),\n",
        "        keras.layers.Dropout(0.3),\n",
        "        keras.layers.Dense(1, activation=\"sigmoid\"),\n",
        "    ]\n",
        ")\n",
        "\n",
        "print (model.summary())\n",
        "\n",
        "keras.utils.plot_model(model, \"my_keras_seq_model.png\", show_shapes=True)"
      ]
    },
    {
      "cell_type": "code",
      "source": [
        "# Check that h5py is installed and works, https://docs.h5py.org/en/latest/build.html\n",
        "# The h5py package is used to load data from the HDF5. This is already installed in Colab.\n",
        "# For other environments you may need to use conda or pip to install h5py.\n",
        "import h5py\n",
        "# h5py.run_tests() # OK ON COLAB"
      ],
      "metadata": {
        "id": "GeSC5VbBshcr"
      },
      "execution_count": null,
      "outputs": []
    },
    {
      "cell_type": "code",
      "source": [
        "# Set up Evaluation metrics\n",
        "# https://keras.io/api/metrics/\n",
        "metrics = [\n",
        "    keras.metrics.Accuracy(name=\"accuracy\"),\n",
        "    keras.metrics.FalseNegatives(name=\"fn\"),\n",
        "    keras.metrics.FalsePositives(name=\"fp\"),\n",
        "    keras.metrics.TrueNegatives(name=\"tn\"),\n",
        "    keras.metrics.TruePositives(name=\"tp\"),\n",
        "    keras.metrics.Precision(name=\"precision\"),\n",
        "    keras.metrics.Recall(name=\"recall\"),\n",
        "]\n",
        "\n",
        "# Set up Early Stopping callback\n",
        "# Will stop the training when there is no improvement in the loss for three consecutive epochs\n",
        "# https://keras.io/api/callbacks/early_stopping/\n",
        "early_stop = keras.callbacks.EarlyStopping(\n",
        "    monitor='loss',\n",
        "    patience=3,\n",
        "    verbose=1)\n",
        "\n",
        "# Set up Model Checkpoint callback\n",
        "# Will save the Keras model or model weights at some frequency\n",
        "# https://keras.io/api/callbacks/model_checkpoint/\n",
        "checkpoint_filepath = 'checkpoint.weights.h5'\n",
        "checkpoint = keras.callbacks.ModelCheckpoint(\n",
        "    # filepath = \"{epoch:02d}-{val_loss:.2f}.keras\",\n",
        "    filepath = checkpoint_filepath,\n",
        "    save_weights_only=True,\n",
        "    # monitor=\"val_loss\",\n",
        "    # mode=\"min\", # For val_loss this should be \"min\"\n",
        "    monitor=\"val_accuracy\",\n",
        "    mode=\"max\", # For val_accuracy this should be \"max\"\n",
        "    save_best_only=True,\n",
        "    verbose=1)\n",
        "\n",
        "# Train the model\n",
        "model.compile(optimizer=keras.optimizers.Adam(1e-2), loss=\"mean_squared_error\", metrics=metrics)\n",
        "\n",
        "history = model.fit(\n",
        "    trainX,\n",
        "    trainY,\n",
        "    batch_size=30,\n",
        "    #epochs=150, # Takes several hours...\n",
        "    epochs=50,\n",
        "    verbose=1,\n",
        "    callbacks=[early_stop, checkpoint],\n",
        "    validation_data=(testX, testY))\n",
        "\n",
        "# Load the model weights (that are considered the best)\n",
        "model.load_weights(checkpoint_filepath)\n",
        "\n",
        "# Print contents of .h5 file\n",
        "'''\n",
        "print('---------- Contents of .h5 file: ')\n",
        "with h5py.File(checkpoint_filepath, 'r') as hdfid:\n",
        "     mylist = list(hdfid.keys())\n",
        "     for var in mylist:\n",
        "         obj = hdfid[var]\n",
        "         #if isinstance(obj, h5py.Dataset):\n",
        "         print(obj.name, obj.parent)\n",
        "'''\n",
        "# Make prediction of target Y using test data in X\n",
        "predictedY = model.predict(testX)\n",
        "print('---------- predictedY: ')\n",
        "print(predictedY)"
      ],
      "metadata": {
        "colab": {
          "base_uri": "https://localhost:8080/"
        },
        "id": "5WHazC8fQKQh",
        "outputId": "b0fdf44d-904b-4114-d9ae-55de577cb7f2"
      },
      "execution_count": null,
      "outputs": [
        {
          "output_type": "stream",
          "name": "stdout",
          "text": [
            "Epoch 1/50\n",
            "16895/16898 [============================>.] - ETA: 0s - loss: 0.0660 - accuracy: 0.9320 - fn: 14568.0000 - fp: 18902.0000 - tn: 234528.0000 - tp: 238852.0000 - precision: 0.9267 - recall: 0.9425\n",
            "Epoch 1: val_accuracy improved from -inf to 0.98313, saving model to checkpoint.weights.h5\n",
            "16898/16898 [==============================] - 164s 10ms/step - loss: 0.0660 - accuracy: 0.9320 - fn: 14568.0000 - fp: 18905.0000 - tn: 234563.0000 - tp: 238900.0000 - precision: 0.9267 - recall: 0.9425 - val_loss: 0.0168 - val_accuracy: 0.9831 - val_fn: 103.0000 - val_fp: 2029.0000 - val_tn: 106759.0000 - val_tp: 17748.0000 - val_precision: 0.8974 - val_recall: 0.9942\n",
            "Epoch 2/50\n",
            "16896/16898 [============================>.] - ETA: 0s - loss: 0.0749 - accuracy: 0.9251 - fn: 27892.0000 - fp: 10072.0000 - tn: 243365.0000 - tp: 225551.0000 - precision: 0.9573 - recall: 0.8899\n",
            "Epoch 2: val_accuracy did not improve from 0.98313\n",
            "16898/16898 [==============================] - 140s 8ms/step - loss: 0.0749 - accuracy: 0.9251 - fn: 27894.0000 - fp: 10073.0000 - tn: 243395.0000 - tp: 225574.0000 - precision: 0.9573 - recall: 0.8900 - val_loss: 0.0610 - val_accuracy: 0.9390 - val_fn: 1237.0000 - val_fp: 6493.0000 - val_tn: 102295.0000 - val_tp: 16614.0000 - val_precision: 0.7190 - val_recall: 0.9307\n",
            "Epoch 3/50\n",
            "16892/16898 [============================>.] - ETA: 0s - loss: 0.0520 - accuracy: 0.9480 - fn: 21256.0000 - fp: 5098.0000 - tn: 248279.0000 - tp: 232127.0000 - precision: 0.9785 - recall: 0.9161\n",
            "Epoch 3: val_accuracy did not improve from 0.98313\n",
            "16898/16898 [==============================] - 153s 9ms/step - loss: 0.0520 - accuracy: 0.9480 - fn: 21257.0000 - fp: 5102.0000 - tn: 248366.0000 - tp: 232211.0000 - precision: 0.9785 - recall: 0.9161 - val_loss: 0.0421 - val_accuracy: 0.9579 - val_fn: 359.0000 - val_fp: 4977.0000 - val_tn: 103811.0000 - val_tp: 17492.0000 - val_precision: 0.7785 - val_recall: 0.9799\n",
            "Epoch 4/50\n",
            "16896/16898 [============================>.] - ETA: 0s - loss: 0.0635 - accuracy: 0.9365 - fn: 4316.0000 - fp: 27864.0000 - tn: 225573.0000 - tp: 249127.0000 - precision: 0.8994 - recall: 0.9830\n",
            "Epoch 4: val_accuracy did not improve from 0.98313\n",
            "16898/16898 [==============================] - 140s 8ms/step - loss: 0.0635 - accuracy: 0.9365 - fn: 4316.0000 - fp: 27870.0000 - tn: 225598.0000 - tp: 249152.0000 - precision: 0.8994 - recall: 0.9830 - val_loss: 0.1774 - val_accuracy: 0.8225 - val_fn: 20.0000 - val_fp: 22449.0000 - val_tn: 86339.0000 - val_tp: 17831.0000 - val_precision: 0.4427 - val_recall: 0.9989\n",
            "Epoch 5/50\n",
            "16897/16898 [============================>.] - ETA: 0s - loss: 0.0322 - accuracy: 0.9678 - fn: 926.0000 - fp: 15391.0000 - tn: 238066.0000 - tp: 252527.0000 - precision: 0.9426 - recall: 0.9963\n",
            "Epoch 5: val_accuracy did not improve from 0.98313\n",
            "16898/16898 [==============================] - 148s 9ms/step - loss: 0.0322 - accuracy: 0.9678 - fn: 926.0000 - fp: 15392.0000 - tn: 238076.0000 - tp: 252542.0000 - precision: 0.9426 - recall: 0.9963 - val_loss: 0.0399 - val_accuracy: 0.9601 - val_fn: 45.0000 - val_fp: 5006.0000 - val_tn: 103782.0000 - val_tp: 17806.0000 - val_precision: 0.7806 - val_recall: 0.9975\n",
            "Epoch 6/50\n",
            "16897/16898 [============================>.] - ETA: 0s - loss: 0.0256 - accuracy: 0.9744 - fn: 1041.0000 - fp: 11913.0000 - tn: 241544.0000 - tp: 252412.0000 - precision: 0.9549 - recall: 0.9959\n",
            "Epoch 6: val_accuracy did not improve from 0.98313\n",
            "16898/16898 [==============================] - 150s 9ms/step - loss: 0.0256 - accuracy: 0.9744 - fn: 1041.0000 - fp: 11913.0000 - tn: 241555.0000 - tp: 252427.0000 - precision: 0.9549 - recall: 0.9959 - val_loss: 0.0399 - val_accuracy: 0.9601 - val_fn: 45.0000 - val_fp: 5006.0000 - val_tn: 103782.0000 - val_tp: 17806.0000 - val_precision: 0.7806 - val_recall: 0.9975\n",
            "Epoch 7/50\n",
            "16897/16898 [============================>.] - ETA: 0s - loss: 0.0307 - accuracy: 0.9693 - fn: 4327.0000 - fp: 11251.0000 - tn: 242203.0000 - tp: 249129.0000 - precision: 0.9568 - recall: 0.9829\n",
            "Epoch 7: val_accuracy did not improve from 0.98313\n",
            "16898/16898 [==============================] - 166s 10ms/step - loss: 0.0307 - accuracy: 0.9693 - fn: 4328.0000 - fp: 11252.0000 - tn: 242216.0000 - tp: 249140.0000 - precision: 0.9568 - recall: 0.9829 - val_loss: 0.0380 - val_accuracy: 0.9620 - val_fn: 1479.0000 - val_fp: 3335.0000 - val_tn: 105453.0000 - val_tp: 16372.0000 - val_precision: 0.8308 - val_recall: 0.9171\n",
            "Epoch 8/50\n",
            "16898/16898 [==============================] - ETA: 0s - loss: 0.0575 - accuracy: 0.9425 - fn: 21489.0000 - fp: 7666.0000 - tn: 245802.0000 - tp: 231979.0000 - precision: 0.9680 - recall: 0.9152\n",
            "Epoch 8: val_accuracy did not improve from 0.98313\n",
            "16898/16898 [==============================] - 151s 9ms/step - loss: 0.0575 - accuracy: 0.9425 - fn: 21489.0000 - fp: 7666.0000 - tn: 245802.0000 - tp: 231979.0000 - precision: 0.9680 - recall: 0.9152 - val_loss: 0.0380 - val_accuracy: 0.9620 - val_fn: 1479.0000 - val_fp: 3335.0000 - val_tn: 105453.0000 - val_tp: 16372.0000 - val_precision: 0.8308 - val_recall: 0.9171\n",
            "Epoch 9/50\n",
            "16897/16898 [============================>.] - ETA: 0s - loss: 0.0225 - accuracy: 0.9775 - fn: 4707.0000 - fp: 6687.0000 - tn: 246767.0000 - tp: 248749.0000 - precision: 0.9738 - recall: 0.9814\n",
            "Epoch 9: val_accuracy improved from 0.98313 to 0.99623, saving model to checkpoint.weights.h5\n",
            "16898/16898 [==============================] - 144s 9ms/step - loss: 0.0225 - accuracy: 0.9775 - fn: 4707.0000 - fp: 6687.0000 - tn: 246781.0000 - tp: 248761.0000 - precision: 0.9738 - recall: 0.9814 - val_loss: 0.0038 - val_accuracy: 0.9962 - val_fn: 175.0000 - val_fp: 303.0000 - val_tn: 108485.0000 - val_tp: 17676.0000 - val_precision: 0.9831 - val_recall: 0.9902\n",
            "Epoch 10/50\n",
            "16896/16898 [============================>.] - ETA: 0s - loss: 0.0191 - accuracy: 0.9809 - fn: 1223.0000 - fp: 8442.0000 - tn: 245001.0000 - tp: 252214.0000 - precision: 0.9676 - recall: 0.9952\n",
            "Epoch 10: val_accuracy did not improve from 0.99623\n",
            "16898/16898 [==============================] - 151s 9ms/step - loss: 0.0191 - accuracy: 0.9809 - fn: 1224.0000 - fp: 8444.0000 - tn: 245024.0000 - tp: 252244.0000 - precision: 0.9676 - recall: 0.9952 - val_loss: 0.0484 - val_accuracy: 0.9516 - val_fn: 5.0000 - val_fp: 6118.0000 - val_tn: 102670.0000 - val_tp: 17846.0000 - val_precision: 0.7447 - val_recall: 0.9997\n",
            "Epoch 11/50\n",
            "16895/16898 [============================>.] - ETA: 0s - loss: 0.0290 - accuracy: 0.9710 - fn: 70.0000 - fp: 14628.0000 - tn: 238796.0000 - tp: 253356.0000 - precision: 0.9454 - recall: 0.9997\n",
            "Epoch 11: val_accuracy did not improve from 0.99623\n",
            "16898/16898 [==============================] - 147s 9ms/step - loss: 0.0290 - accuracy: 0.9710 - fn: 70.0000 - fp: 14629.0000 - tn: 238839.0000 - tp: 253398.0000 - precision: 0.9454 - recall: 0.9997 - val_loss: 0.0484 - val_accuracy: 0.9516 - val_fn: 5.0000 - val_fp: 6118.0000 - val_tn: 102670.0000 - val_tp: 17846.0000 - val_precision: 0.7447 - val_recall: 0.9997\n",
            "Epoch 12/50\n",
            "16892/16898 [============================>.] - ETA: 0s - loss: 0.0291 - accuracy: 0.9709 - fn: 81.0000 - fp: 14645.0000 - tn: 238733.0000 - tp: 253301.0000 - precision: 0.9453 - recall: 0.9997\n",
            "Epoch 12: val_accuracy did not improve from 0.99623\n",
            "16898/16898 [==============================] - 154s 9ms/step - loss: 0.0291 - accuracy: 0.9709 - fn: 81.0000 - fp: 14650.0000 - tn: 238818.0000 - tp: 253387.0000 - precision: 0.9453 - recall: 0.9997 - val_loss: 0.0484 - val_accuracy: 0.9516 - val_fn: 5.0000 - val_fp: 6118.0000 - val_tn: 102670.0000 - val_tp: 17846.0000 - val_precision: 0.7447 - val_recall: 0.9997\n",
            "Epoch 13/50\n",
            "16898/16898 [==============================] - ETA: 0s - loss: 0.0291 - accuracy: 0.9709 - fn: 77.0000 - fp: 14660.0000 - tn: 238808.0000 - tp: 253391.0000 - precision: 0.9453 - recall: 0.9997\n",
            "Epoch 13: val_accuracy did not improve from 0.99623\n",
            "16898/16898 [==============================] - 151s 9ms/step - loss: 0.0291 - accuracy: 0.9709 - fn: 77.0000 - fp: 14660.0000 - tn: 238808.0000 - tp: 253391.0000 - precision: 0.9453 - recall: 0.9997 - val_loss: 0.0484 - val_accuracy: 0.9516 - val_fn: 5.0000 - val_fp: 6118.0000 - val_tn: 102670.0000 - val_tp: 17846.0000 - val_precision: 0.7447 - val_recall: 0.9997\n",
            "Epoch 13: early stopping\n",
            "---------- Contents of .h5 file: \n",
            "/layers <HDF5 group \"/\" (4 members)>\n",
            "/metrics <HDF5 group \"/\" (4 members)>\n",
            "/optimizer <HDF5 group \"/\" (4 members)>\n",
            "/vars <HDF5 group \"/\" (4 members)>\n",
            "3958/3958 [==============================] - 11s 3ms/step\n",
            "---------- predictedY: \n",
            "[[0.]\n",
            " [0.]\n",
            " [1.]\n",
            " ...\n",
            " [0.]\n",
            " [0.]\n",
            " [0.]]\n"
          ]
        }
      ]
    },
    {
      "cell_type": "code",
      "source": [
        "# Evaluate model (using training data)\n",
        "\n",
        "from sklearn.metrics import confusion_matrix, ConfusionMatrixDisplay\n",
        "cm = confusion_matrix(testY, predictedY)\n",
        "ConfusionMatrixDisplay(cm).plot()\n",
        "\n",
        "train_eval_metrics = model.evaluate(trainX, trainY, batch_size=128)\n",
        "print('---------- train_eval_metrics: ')\n",
        "print(train_eval_metrics)\n",
        "\n",
        "train_loss = train_eval_metrics[0]\n",
        "train_accuracy = train_eval_metrics[1]\n",
        "\n",
        "print('Train loss: ')\n",
        "print(train_loss)\n",
        "print('Train accuracy: ')\n",
        "print(train_accuracy)\n",
        "\n",
        "# Precision and Recall\n",
        "from sklearn.metrics import precision_score, recall_score\n",
        "# The precision is the ratio tp / (tp + fp) where tp is the number of true positives and fp the number of false positives.\n",
        "ps = precision_score(testY, predictedY)\n",
        "# The recall is the ratio tp / (tp + fn) where tp is the number of true positives and fn the number of false negatives.\n",
        "rs = recall_score(testY, predictedY)\n",
        "print('precision: %f , recall: %f' % (ps, rs))\n",
        "\n",
        "# Evaluate model (using test data)\n",
        "test_eval_metrics = model.evaluate(testX, testY)  # TODO: Should we split into separate validation data?\n",
        "print('---------- test_eval_metrics: ')\n",
        "print(test_eval_metrics)\n",
        "\n",
        "test_loss = test_eval_metrics[0]\n",
        "test_accuracy = test_eval_metrics[1]\n",
        "\n",
        "print('Test loss: ')\n",
        "print(test_loss)\n",
        "print('Test accuracy: ')\n",
        "print(test_accuracy)"
      ],
      "metadata": {
        "colab": {
          "base_uri": "https://localhost:8080/",
          "height": 737
        },
        "id": "LGA-zepyx7Ou",
        "outputId": "d60413ac-26f7-41a2-da61-f5b525cc5e26"
      },
      "execution_count": null,
      "outputs": [
        {
          "output_type": "stream",
          "name": "stdout",
          "text": [
            "3961/3961 [==============================] - 19s 5ms/step - loss: 0.0059 - accuracy: 0.9941 - fn: 2320.0000 - fp: 673.0000 - tn: 252795.0000 - tp: 251148.0000 - precision: 0.9973 - recall: 0.9908\n",
            "---------- train_eval_metrics: \n",
            "[0.005904098507016897, 0.9940959215164185, 2320.0, 673.0, 252795.0, 251148.0, 0.997327446937561, 0.9908469915390015]\n",
            "Train loss: \n",
            "0.005904098507016897\n",
            "Train accuracy: \n",
            "0.9940959215164185\n",
            "precision: 0.983147 , recall: 0.990197\n",
            "3958/3958 [==============================] - 29s 7ms/step - loss: 0.0038 - accuracy: 0.9962 - fn: 175.0000 - fp: 303.0000 - tn: 108485.0000 - tp: 17676.0000 - precision: 0.9831 - recall: 0.9902\n",
            "---------- test_eval_metrics: \n",
            "[0.0037745086010545492, 0.9962254762649536, 175.0, 303.0, 108485.0, 17676.0, 0.9831470251083374, 0.9901966452598572]\n",
            "Test loss: \n",
            "0.0037745086010545492\n",
            "Test accuracy: \n",
            "0.9962254762649536\n"
          ]
        },
        {
          "output_type": "display_data",
          "data": {
            "text/plain": [
              "<Figure size 640x480 with 2 Axes>"
            ],
            "image/png": "[encoded data removed]"
          },
          "metadata": {}
        }
      ]
    }
  ]
}