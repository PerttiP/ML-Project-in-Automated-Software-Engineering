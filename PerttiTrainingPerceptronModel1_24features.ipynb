{
  "cells": [
    {
      "cell_type": "markdown",
      "metadata": {
        "id": "view-in-github",
        "colab_type": "text"
      },
      "source": [
        "<a href=\"https://colab.research.google.com/github/PerttiP/ML-Project-in-Automated-Software-Engineering/blob/main/PerttiTrainingPerceptronModel1_24features.ipynb\" target=\"_parent\"><img src=\"https://colab.research.google.com/assets/colab-badge.svg\" alt=\"Open In Colab\"/></a>"
      ]
    },
    {
      "cell_type": "code",
      "execution_count": null,
      "id": "3e988e6e-d732-43f5-845a-40ceeeaaa2ff",
      "metadata": {
        "id": "3e988e6e-d732-43f5-845a-40ceeeaaa2ff"
      },
      "outputs": [],
      "source": [
        "'''\n",
        "PerttiTrainingPerceptronModel1_24features\n",
        "Google Colab version\n",
        "-----------------------------------------\n",
        "IMPORTANT PRE-REQUISITE:\n",
        "Please first prepare Pandas dataframe by running PerttiPrepareData24features.ipynb\n",
        "which will create the input file PrepDataframe24features.csv\n",
        "------------------------------------------------------------------------------\n",
        "Test run options:\n",
        "OPT1. Enable Data augmentation.\n",
        "OPT2. Enable resampling with SMOTE.\n",
        "\n",
        "Updates:\n",
        "UPD1. With extended data feature \"absolute code churn measure\" : code_churn.\n",
        "UPD2. With feature selection (Removed redundant data).\n",
        "'''\n",
        "import numpy as np # linear algebra\n",
        "import pandas as pd # data processing, CSV file I/O (e.g. pd.read_csv)\n",
        "import seaborn as sb # visualization\n",
        "import matplotlib.pyplot as plot"
      ]
    },
    {
      "cell_type": "code",
      "execution_count": null,
      "id": "dc909929-9e26-48ae-93b7-22fc1cd0b52e",
      "metadata": {
        "colab": {
          "base_uri": "https://localhost:8080/"
        },
        "id": "dc909929-9e26-48ae-93b7-22fc1cd0b52e",
        "outputId": "6f1c6855-7503-4d74-bb43-dd72d0d1c552"
      },
      "outputs": [
        {
          "output_type": "stream",
          "name": "stdout",
          "text": [
            "0.10.1\n"
          ]
        }
      ],
      "source": [
        "# Install Imbalanced-learn library (used for SMOTE)\n",
        "# https://imbalanced-learn.org/stable/install.html#getting-started\n",
        "# https://anaconda.org/conda-forge/imbalanced-learn\n",
        "# !conda install -c conda-forge imbalanced-learn # NOK: It gets stuck forever...\n",
        "# !conda install conda-forge::imbalanced-learn # NOK: This also gets stuck forever...\n",
        "# !pip install imbalanced-learn # Did this uninstall scikit-learn??? why???\n",
        "\n",
        "# This exact command works in both Colab and Anaconda!:\n",
        "!pip install -q scikit-learn imblearn\n",
        "\n",
        "import imblearn\n",
        "print(imblearn.__version__)"
      ]
    },
    {
      "cell_type": "code",
      "execution_count": null,
      "id": "10a74ae4-96bb-40b0-8f00-2b138845e828",
      "metadata": {
        "id": "10a74ae4-96bb-40b0-8f00-2b138845e828"
      },
      "outputs": [],
      "source": [
        "# Utility functions\n",
        "def print_sample(x, num_rows = 20):\n",
        "    # Display a random sample in <x> of <num_rows> rows\n",
        "    sample = x.sample(num_rows)\n",
        "    pd.set_option('display.max_rows', len(sample))\n",
        "    print('--------------------------')\n",
        "    print(sample)\n",
        "    pd.reset_option('display.max_rows')"
      ]
    },
    {
      "cell_type": "code",
      "source": [
        "# Upload file to Colab\n",
        "# https://towardsdatascience.com/3-ways-to-load-csv-files-into-colab-7c14fcbdcb92\n",
        "\n",
        "from google.colab import files\n",
        "uploaded = files.upload()"
      ],
      "metadata": {
        "colab": {
          "base_uri": "https://localhost:8080/",
          "height": 74
        },
        "id": "89VrPzKkm3Is",
        "outputId": "0045f1e5-12fb-47a7-c680-8fe9f0ed1edf"
      },
      "id": "89VrPzKkm3Is",
      "execution_count": null,
      "outputs": [
        {
          "output_type": "display_data",
          "data": {
            "text/plain": [
              "<IPython.core.display.HTML object>"
            ],
            "text/html": [
              "\n",
              "     <input type=\"file\" id=\"files-1a7c31cc-be1f-44ac-ac04-24afcb46c2bf\" name=\"files[]\" multiple disabled\n",
              "        style=\"border:none\" />\n",
              "     <output id=\"result-1a7c31cc-be1f-44ac-ac04-24afcb46c2bf\">\n",
              "      Upload widget is only available when the cell has been executed in the\n",
              "      current browser session. Please rerun this cell to enable.\n",
              "      </output>\n",
              "      <script>// Copyright 2017 Google LLC\n",
              "//\n",
              "// Licensed under the Apache License, Version 2.0 (the \"License\");\n",
              "// you may not use this file except in compliance with the License.\n",
              "// You may obtain a copy of the License at\n",
              "//\n",
              "//      http://www.apache.org/licenses/LICENSE-2.0\n",
              "//\n",
              "// Unless required by applicable law or agreed to in writing, software\n",
              "// distributed under the License is distributed on an \"AS IS\" BASIS,\n",
              "// WITHOUT WARRANTIES OR CONDITIONS OF ANY KIND, either express or implied.\n",
              "// See the License for the specific language governing permissions and\n",
              "// limitations under the License.\n",
              "\n",
              "/**\n",
              " * @fileoverview Helpers for google.colab Python module.\n",
              " */\n",
              "(function(scope) {\n",
              "function span(text, styleAttributes = {}) {\n",
              "  const element = document.createElement('span');\n",
              "  element.textContent = text;\n",
              "  for (const key of Object.keys(styleAttributes)) {\n",
              "    element.style[key] = styleAttributes[key];\n",
              "  }\n",
              "  return element;\n",
              "}\n",
              "\n",
              "// Max number of bytes which will be uploaded at a time.\n",
              "const MAX_PAYLOAD_SIZE = 100 * 1024;\n",
              "\n",
              "function _uploadFiles(inputId, outputId) {\n",
              "  const steps = uploadFilesStep(inputId, outputId);\n",
              "  const outputElement = document.getElementById(outputId);\n",
              "  // Cache steps on the outputElement to make it available for the next call\n",
              "  // to uploadFilesContinue from Python.\n",
              "  outputElement.steps = steps;\n",
              "\n",
              "  return _uploadFilesContinue(outputId);\n",
              "}\n",
              "\n",
              "// This is roughly an async generator (not supported in the browser yet),\n",
              "// where there are multiple asynchronous steps and the Python side is going\n",
              "// to poll for completion of each step.\n",
              "// This uses a Promise to block the python side on completion of each step,\n",
              "// then passes the result of the previous step as the input to the next step.\n",
              "function _uploadFilesContinue(outputId) {\n",
              "  const outputElement = document.getElementById(outputId);\n",
              "  const steps = outputElement.steps;\n",
              "\n",
              "  const next = steps.next(outputElement.lastPromiseValue);\n",
              "  return Promise.resolve(next.value.promise).then((value) => {\n",
              "    // Cache the last promise value to make it available to the next\n",
              "    // step of the generator.\n",
              "    outputElement.lastPromiseValue = value;\n",
              "    return next.value.response;\n",
              "  });\n",
              "}\n",
              "\n",
              "/**\n",
              " * Generator function which is called between each async step of the upload\n",
              " * process.\n",
              " * @param {string} inputId Element ID of the input file picker element.\n",
              " * @param {string} outputId Element ID of the output display.\n",
              " * @return {!Iterable<!Object>} Iterable of next steps.\n",
              " */\n",
              "function* uploadFilesStep(inputId, outputId) {\n",
              "  const inputElement = document.getElementById(inputId);\n",
              "  inputElement.disabled = false;\n",
              "\n",
              "  const outputElement = document.getElementById(outputId);\n",
              "  outputElement.innerHTML = '';\n",
              "\n",
              "  const pickedPromise = new Promise((resolve) => {\n",
              "    inputElement.addEventListener('change', (e) => {\n",
              "      resolve(e.target.files);\n",
              "    });\n",
              "  });\n",
              "\n",
              "  const cancel = document.createElement('button');\n",
              "  inputElement.parentElement.appendChild(cancel);\n",
              "  cancel.textContent = 'Cancel upload';\n",
              "  const cancelPromise = new Promise((resolve) => {\n",
              "    cancel.onclick = () => {\n",
              "      resolve(null);\n",
              "    };\n",
              "  });\n",
              "\n",
              "  // Wait for the user to pick the files.\n",
              "  const files = yield {\n",
              "    promise: Promise.race([pickedPromise, cancelPromise]),\n",
              "    response: {\n",
              "      action: 'starting',\n",
              "    }\n",
              "  };\n",
              "\n",
              "  cancel.remove();\n",
              "\n",
              "  // Disable the input element since further picks are not allowed.\n",
              "  inputElement.disabled = true;\n",
              "\n",
              "  if (!files) {\n",
              "    return {\n",
              "      response: {\n",
              "        action: 'complete',\n",
              "      }\n",
              "    };\n",
              "  }\n",
              "\n",
              "  for (const file of files) {\n",
              "    const li = document.createElement('li');\n",
              "    li.append(span(file.name, {fontWeight: 'bold'}));\n",
              "    li.append(span(\n",
              "        `(${file.type || 'n/a'}) - ${file.size} bytes, ` +\n",
              "        `last modified: ${\n",
              "            file.lastModifiedDate ? file.lastModifiedDate.toLocaleDateString() :\n",
              "                                    'n/a'} - `));\n",
              "    const percent = span('0% done');\n",
              "    li.appendChild(percent);\n",
              "\n",
              "    outputElement.appendChild(li);\n",
              "\n",
              "    const fileDataPromise = new Promise((resolve) => {\n",
              "      const reader = new FileReader();\n",
              "      reader.onload = (e) => {\n",
              "        resolve(e.target.result);\n",
              "      };\n",
              "      reader.readAsArrayBuffer(file);\n",
              "    });\n",
              "    // Wait for the data to be ready.\n",
              "    let fileData = yield {\n",
              "      promise: fileDataPromise,\n",
              "      response: {\n",
              "        action: 'continue',\n",
              "      }\n",
              "    };\n",
              "\n",
              "    // Use a chunked sending to avoid message size limits. See b/62115660.\n",
              "    let position = 0;\n",
              "    do {\n",
              "      const length = Math.min(fileData.byteLength - position, MAX_PAYLOAD_SIZE);\n",
              "      const chunk = new Uint8Array(fileData, position, length);\n",
              "      position += length;\n",
              "\n",
              "      const base64 = btoa(String.fromCharCode.apply(null, chunk));\n",
              "      yield {\n",
              "        response: {\n",
              "          action: 'append',\n",
              "          file: file.name,\n",
              "          data: base64,\n",
              "        },\n",
              "      };\n",
              "\n",
              "      let percentDone = fileData.byteLength === 0 ?\n",
              "          100 :\n",
              "          Math.round((position / fileData.byteLength) * 100);\n",
              "      percent.textContent = `${percentDone}% done`;\n",
              "\n",
              "    } while (position < fileData.byteLength);\n",
              "  }\n",
              "\n",
              "  // All done.\n",
              "  yield {\n",
              "    response: {\n",
              "      action: 'complete',\n",
              "    }\n",
              "  };\n",
              "}\n",
              "\n",
              "scope.google = scope.google || {};\n",
              "scope.google.colab = scope.google.colab || {};\n",
              "scope.google.colab._files = {\n",
              "  _uploadFiles,\n",
              "  _uploadFilesContinue,\n",
              "};\n",
              "})(self);\n",
              "</script> "
            ]
          },
          "metadata": {}
        },
        {
          "output_type": "stream",
          "name": "stdout",
          "text": [
            "Saving PrepDataframe24features.csv to PrepDataframe24features (1).csv\n"
          ]
        }
      ]
    },
    {
      "cell_type": "code",
      "source": [
        "# NOTE: Need to first upload pre-processed data file to Colab, See step 'Upload file to Colab' above!\n",
        "# WARN: For unknown reason the uploaded file name sometimes get an extra id like (1)\n",
        "import io\n",
        "df = pd.read_csv(io.BytesIO(uploaded['PrepDataframe24features (1).csv']))\n",
        "\n",
        "# Works only for Anaconda:\n",
        "# df = pd.read_csv('./PrepDataframe.csv')\n",
        "# df = pd.read_csv('./PrepDataframe24features.csv\n",
        "\n",
        "# Make sure we have values everywhere\n",
        "print(df.isnull().sum().max())\n",
        "\n",
        "# Make sure that column isbuggy is an integer!\n",
        "df['isbuggy'] = df['isbuggy'].astype(int)\n",
        "\n",
        "# print('------- df:')\n",
        "# df.info()\n",
        "# print(df.dtypes)"
      ],
      "metadata": {
        "colab": {
          "base_uri": "https://localhost:8080/"
        },
        "id": "uZJ0vllWm6NH",
        "outputId": "792bdac0-f65c-4ecd-9e38-e4e1db9de866"
      },
      "id": "uZJ0vllWm6NH",
      "execution_count": null,
      "outputs": [
        {
          "output_type": "stream",
          "name": "stdout",
          "text": [
            "0\n"
          ]
        }
      ]
    },
    {
      "cell_type": "code",
      "source": [
        "# OPT1. Data augmentation to increase the size of the dataset\n",
        "# -----------------------------------------------------------\n",
        "# NOTE: Using this crude oversampling constructs a perfect model!\n",
        "for i in range(1,5): # Range changed back to 1,5\n",
        "   df = df._append(df) # append is deprecated in newer Pandas"
      ],
      "metadata": {
        "id": "RuTe0445gK-t"
      },
      "id": "RuTe0445gK-t",
      "execution_count": null,
      "outputs": []
    },
    {
      "cell_type": "code",
      "execution_count": null,
      "id": "b69285b0-62c9-4624-b2eb-3d733ef1a0db",
      "metadata": {
        "colab": {
          "base_uri": "https://localhost:8080/"
        },
        "id": "b69285b0-62c9-4624-b2eb-3d733ef1a0db",
        "outputId": "e03eed39-cc1d-4689-b1cb-14e274c4b708"
      },
      "outputs": [
        {
          "output_type": "stream",
          "name": "stdout",
          "text": [
            "(422128, 24)\n",
            "Target class distribution counters:\n",
            "Counter({0: 362256, 1: 59872})\n",
            "(295489, 24) (295489,)\n",
            "(126639, 24) (126639,)\n"
          ]
        }
      ],
      "source": [
        "print(df.shape)\n",
        "\n",
        "# Print target class distribution counters, to see how imbalanced the dataset is\n",
        "from collections import Counter\n",
        "counter = Counter(df['isbuggy'])\n",
        "print('Target class distribution counters:')\n",
        "print(counter)\n",
        "\n",
        "# Supervised Learning: include target (isbuggy) in training data\n",
        "X = df\n",
        "Y = df['isbuggy']\n",
        "# print(Y)\n",
        "\n",
        "# Split into training data (70%) and test data (30%)\n",
        "#    TODO: Split also into validation data?\n",
        "trainSize = int(df.shape[0] * 0.70)\n",
        "\n",
        "# ALTERNATIVE: Split using method from sklearn.model_selection\n",
        "# X_train, X_test, y_train, y_test = train_test_split(X, y, test_size=0.3, random_state=42)\n",
        "\n",
        "trainX = X.iloc[0: trainSize, :]\n",
        "trainY = Y[0: trainSize]\n",
        "\n",
        "testX = X.iloc[trainSize: , :]\n",
        "testY = Y[trainSize: ]\n",
        "\n",
        "print(trainX.shape, trainY.shape)\n",
        "print(testX.shape, testY.shape)"
      ]
    },
    {
      "cell_type": "code",
      "source": [
        "# OPT2. Oversampling of training data using SMOTE\n",
        "# -----------------------------------------------\n",
        "counter = Counter(trainY)\n",
        "print('Distribution counters BEFORE SMOTE oversampling:')\n",
        "print(counter)\n",
        "\n",
        "from imblearn.over_sampling import SMOTE\n",
        "trainXsmote, trainYsmote = SMOTE().fit_resample(trainX, trainY)\n",
        "\n",
        "# Replace training data with oversampled data:\n",
        "trainX = trainXsmote\n",
        "trainY = trainYsmote\n",
        "\n",
        "counter = Counter(trainYsmote)\n",
        "print('Distribution counters AFTER SMOTE oversampling:')\n",
        "print(counter)"
      ],
      "metadata": {
        "colab": {
          "base_uri": "https://localhost:8080/"
        },
        "id": "KzKKvje_iXwb",
        "outputId": "e1a98cec-b0cb-447e-bc8a-85bae18e1ae6"
      },
      "id": "KzKKvje_iXwb",
      "execution_count": null,
      "outputs": [
        {
          "output_type": "stream",
          "name": "stdout",
          "text": [
            "Distribution counters BEFORE SMOTE oversampling:\n",
            "Counter({0: 253468, 1: 42021})\n",
            "Distribution counters AFTER SMOTE oversampling:\n",
            "Counter({0: 253468, 1: 253468})\n"
          ]
        }
      ]
    },
    {
      "cell_type": "code",
      "execution_count": null,
      "id": "2b89f2a1-86c9-405a-a1c8-486a22faa0c2",
      "metadata": {
        "colab": {
          "base_uri": "https://localhost:8080/"
        },
        "id": "2b89f2a1-86c9-405a-a1c8-486a22faa0c2",
        "outputId": "8e581f4d-e6f7-45ba-9e1c-71a0924714f7"
      },
      "outputs": [
        {
          "output_type": "stream",
          "name": "stdout",
          "text": [
            "[[-0.05032943 -0.0788547  -0.07908906 ...  0.73230379 -1.\n",
            "  -0.06937635]\n",
            " [-0.05084365 -0.09409666 -0.14892135 ...  0.60288051 -1.\n",
            "  -0.07186567]\n",
            " [-0.04775836 -0.0788547  -0.07908906 ... -0.31809629 -1.\n",
            "  -0.06887849]\n",
            " ...\n",
            " [-0.04570151 -0.09409666 -0.14892135 ... -0.05103185  1.\n",
            "  -0.06862956]\n",
            " [-0.04261623 -0.0788547  -0.07908906 ...  2.0864642   1.\n",
            "  -0.06290412]\n",
            " [ 0.08490882  0.10404878  0.06057552 ... -0.91994046  1.\n",
            "   0.00380964]]\n",
            "[[-0.04313044 -0.0788547  -0.07908906 ...  2.22240785 -1.\n",
            "  -0.06962528]\n",
            " [-0.04570151 -0.04837079  0.06057552 ...  1.90423402 -1.\n",
            "  -0.05941907]\n",
            " [-0.01690553 -0.06361274 -0.07908906 ...  0.03780581  1.\n",
            "  -0.04348743]\n",
            " ...\n",
            " [-0.04775836 -0.06361274 -0.00925677 ...  2.39413558 -1.\n",
            "  -0.06987422]\n",
            " [-0.05032943 -0.0788547  -0.14892135 ... -0.76359782 -1.\n",
            "  -0.07086994]\n",
            " [-0.05032943 -0.0788547  -0.07908906 ... -0.57465584 -1.\n",
            "  -0.07012315]]\n"
          ]
        }
      ],
      "source": [
        "# Data Transforms\n",
        "# https://scikit-learn.org/stable/data_transforms.html\n",
        "\n",
        "# Similar to the z-score method but involving simpler computation is the max-min method that\n",
        "# computes the normalized feature value\n",
        "\n",
        "# Normalization Step\n",
        "from sklearn.preprocessing import StandardScaler\n",
        "scaler = StandardScaler()\n",
        "# Perform fit only on training data?\n",
        "trainX = scaler.fit_transform(trainX.values)\n",
        "# FIXME:\n",
        "print(trainX)\n",
        "# trainX.tail\n",
        "\n",
        "# Apply same transformation to test data (but do not use fit)!\n",
        "testX = scaler.transform(testX.values)\n",
        "\n",
        "print(testX)\n",
        "# testX.tail()"
      ]
    },
    {
      "cell_type": "code",
      "execution_count": null,
      "id": "7ab9eb44-09a0-4af0-b3d7-1fe86d566fcd",
      "metadata": {
        "colab": {
          "base_uri": "https://localhost:8080/",
          "height": 1000
        },
        "id": "7ab9eb44-09a0-4af0-b3d7-1fe86d566fcd",
        "outputId": "a32d44c0-5244-44cf-e4a6-c5869233bcf3"
      },
      "outputs": [
        {
          "output_type": "stream",
          "name": "stdout",
          "text": [
            "-- Epoch 1\n",
            "Norm: 41.04, NNZs: 23, Bias: 6.300000, T: 506936, Avg. loss: 0.017653\n",
            "Total training time: 0.10 seconds.\n",
            "-- Epoch 2\n",
            "Norm: 41.37, NNZs: 23, Bias: 6.100000, T: 1013872, Avg. loss: 0.000814\n",
            "Total training time: 0.20 seconds.\n",
            "-- Epoch 3\n",
            "Norm: 41.37, NNZs: 23, Bias: 6.100000, T: 1520808, Avg. loss: 0.000000\n",
            "Total training time: 0.30 seconds.\n",
            "-- Epoch 4\n",
            "Norm: 41.37, NNZs: 23, Bias: 6.100000, T: 2027744, Avg. loss: 0.000000\n",
            "Total training time: 0.39 seconds.\n",
            "-- Epoch 5\n",
            "Norm: 41.37, NNZs: 23, Bias: 6.100000, T: 2534680, Avg. loss: 0.000000\n",
            "Total training time: 0.51 seconds.\n",
            "-- Epoch 6\n",
            "Norm: 41.37, NNZs: 23, Bias: 6.100000, T: 3041616, Avg. loss: 0.000000\n",
            "Total training time: 0.61 seconds.\n",
            "-- Epoch 7\n",
            "Norm: 41.37, NNZs: 23, Bias: 6.100000, T: 3548552, Avg. loss: 0.000000\n",
            "Total training time: 0.70 seconds.\n",
            "Convergence after 7 epochs took 0.70 seconds\n",
            "Counter({0: 108788, 1: 17851}) Counter({0: 108788, 1: 17851})\n",
            "Accuracy: 1.0\n",
            "-- Epoch 1\n",
            "Norm: 32.77, NNZs: 23, Bias: 6.600000, T: 337957, Avg. loss: 0.019539\n",
            "Total training time: 0.07 seconds.\n",
            "-- Epoch 2\n",
            "Norm: 42.25, NNZs: 23, Bias: 5.800000, T: 675914, Avg. loss: 0.015467\n",
            "Total training time: 0.14 seconds.\n",
            "-- Epoch 3\n",
            "Norm: 45.96, NNZs: 23, Bias: 6.000000, T: 1013871, Avg. loss: 0.007916\n",
            "Total training time: 0.21 seconds.\n",
            "-- Epoch 4\n",
            "Norm: 45.96, NNZs: 23, Bias: 6.000000, T: 1351828, Avg. loss: 0.000000\n",
            "Total training time: 0.27 seconds.\n",
            "-- Epoch 5\n",
            "Norm: 45.96, NNZs: 23, Bias: 6.000000, T: 1689785, Avg. loss: 0.000000\n",
            "Total training time: 0.34 seconds.\n",
            "-- Epoch 6\n",
            "Norm: 45.96, NNZs: 23, Bias: 6.000000, T: 2027742, Avg. loss: 0.000000\n",
            "Total training time: 0.42 seconds.\n",
            "-- Epoch 7\n",
            "Norm: 45.96, NNZs: 23, Bias: 6.000000, T: 2365699, Avg. loss: 0.000000\n",
            "Total training time: 0.49 seconds.\n",
            "-- Epoch 8\n",
            "Norm: 45.96, NNZs: 23, Bias: 6.000000, T: 2703656, Avg. loss: 0.000000\n",
            "Total training time: 0.55 seconds.\n",
            "-- Epoch 9\n",
            "Norm: 45.96, NNZs: 23, Bias: 6.000000, T: 3041613, Avg. loss: 0.000000\n",
            "Total training time: 0.62 seconds.\n",
            "Convergence after 9 epochs took 0.62 seconds\n",
            "-- Epoch 1\n",
            "Norm: 29.76, NNZs: 23, Bias: 5.200000, T: 337957, Avg. loss: 0.016242\n",
            "Total training time: 0.06 seconds.\n",
            "-- Epoch 2\n",
            "Norm: 32.53, NNZs: 23, Bias: 5.600000, T: 675914, Avg. loss: 0.002471\n",
            "Total training time: 0.14 seconds.\n",
            "-- Epoch 3\n",
            "Norm: 32.53, NNZs: 23, Bias: 5.600000, T: 1013871, Avg. loss: 0.000000\n",
            "Total training time: 0.20 seconds.\n",
            "-- Epoch 4\n",
            "Norm: 32.53, NNZs: 23, Bias: 5.600000, T: 1351828, Avg. loss: 0.000000\n",
            "Total training time: 0.27 seconds.\n",
            "-- Epoch 5\n",
            "Norm: 32.53, NNZs: 23, Bias: 5.600000, T: 1689785, Avg. loss: 0.000000\n",
            "Total training time: 0.34 seconds.\n",
            "-- Epoch 6\n",
            "Norm: 32.53, NNZs: 23, Bias: 5.600000, T: 2027742, Avg. loss: 0.000000\n",
            "Total training time: 0.40 seconds.\n",
            "-- Epoch 7\n",
            "Norm: 32.53, NNZs: 23, Bias: 5.600000, T: 2365699, Avg. loss: 0.000000\n",
            "Total training time: 0.47 seconds.\n",
            "-- Epoch 8\n",
            "Norm: 32.53, NNZs: 23, Bias: 5.600000, T: 2703656, Avg. loss: 0.000000\n",
            "Total training time: 0.54 seconds.\n",
            "Convergence after 8 epochs took 0.54 seconds\n",
            "-- Epoch 1\n",
            "Norm: 33.06, NNZs: 23, Bias: 5.000000, T: 337958, Avg. loss: 0.025778\n",
            "Total training time: 0.07 seconds.\n",
            "-- Epoch 2\n",
            "Norm: 41.05, NNZs: 23, Bias: 7.300000, T: 675916, Avg. loss: 0.014037\n",
            "Total training time: 0.13 seconds.\n",
            "-- Epoch 3\n",
            "Norm: 48.52, NNZs: 23, Bias: 8.000000, T: 1013874, Avg. loss: 0.015910\n",
            "Total training time: 0.22 seconds.\n",
            "-- Epoch 4\n",
            "Norm: 48.55, NNZs: 23, Bias: 7.800000, T: 1351832, Avg. loss: 0.000541\n",
            "Total training time: 0.31 seconds.\n",
            "-- Epoch 5\n",
            "Norm: 48.55, NNZs: 23, Bias: 7.800000, T: 1689790, Avg. loss: 0.000000\n",
            "Total training time: 0.41 seconds.\n",
            "-- Epoch 6\n",
            "Norm: 48.55, NNZs: 23, Bias: 7.800000, T: 2027748, Avg. loss: 0.000000\n",
            "Total training time: 0.49 seconds.\n",
            "-- Epoch 7\n",
            "Norm: 48.55, NNZs: 23, Bias: 7.800000, T: 2365706, Avg. loss: 0.000000\n",
            "Total training time: 0.59 seconds.\n",
            "-- Epoch 8\n",
            "Norm: 48.55, NNZs: 23, Bias: 7.800000, T: 2703664, Avg. loss: 0.000000\n",
            "Total training time: 0.68 seconds.\n",
            "-- Epoch 9\n",
            "Norm: 48.55, NNZs: 23, Bias: 7.800000, T: 3041622, Avg. loss: 0.000000\n",
            "Total training time: 0.78 seconds.\n",
            "Convergence after 9 epochs took 0.78 seconds\n",
            "Mean Accuracy: 1.000 (Std: 0.000)\n",
            "precision: 1.000000 , recall: 1.000000\n",
            "(1.0, 1.0, 1.0, None)\n"
          ]
        },
        {
          "output_type": "display_data",
          "data": {
            "text/plain": [
              "<Figure size 640x480 with 2 Axes>"
            ],
            "image/png": "[encoded data removed]"
          },
          "metadata": {}
        }
      ],
      "source": [
        "#\n",
        "# Perceptron\n",
        "#\n",
        "from sklearn.linear_model import Perceptron\n",
        "'''\n",
        "max_iter: The maximum number of passes over the training data (aka epochs).\n",
        "eta0:     Constant by which the updates are multiplied (aka learning rate).\n",
        "'''\n",
        "clf = Perceptron(max_iter = 1000, eta0 = 0.1, verbose=1)\n",
        "\n",
        "clf.fit(trainX, trainY)\n",
        "\n",
        "predictY = clf.predict(testX)\n",
        "\n",
        "print(Counter(testY), Counter(predictY))\n",
        "\n",
        "from sklearn.metrics import confusion_matrix, ConfusionMatrixDisplay\n",
        "cm = confusion_matrix(testY, predictY)\n",
        "# print(cm)\n",
        "# ConfusionMatrixDisplay(cm, clf.classes_).plot() # WARN\n",
        "# ConfusionMatrixDisplay(confusion_matrix = cm, display_labels = [False, True]).plot()\n",
        "ConfusionMatrixDisplay(cm).plot()\n",
        "\n",
        "# Evaluate accuracy\n",
        "from sklearn.metrics import accuracy_score\n",
        "accuracy = accuracy_score(testY, predictY)\n",
        "print(\"Accuracy:\", accuracy)\n",
        "\n",
        "# TODO: Should we evaluate more, using other metrics?\n",
        "# Measuring Accuracy Using Cross-Validation (using method cross_val_score)\n",
        "from sklearn.model_selection import cross_val_score\n",
        "scores = cross_val_score(clf, trainX, trainY, cv=3, scoring=\"accuracy\")\n",
        "from numpy import mean, std\n",
        "print('Mean Accuracy: %.3f (Std: %.3f)' % (mean(scores), std(scores)))\n",
        "\n",
        "# Precision and Recall\n",
        "from sklearn.metrics import precision_score, recall_score\n",
        "# The precision is the ratio tp / (tp + fp) where tp is the number of true positives and fp the number of false positives.\n",
        "ps = precision_score(testY, predictY)\n",
        "# The recall is the ratio tp / (tp + fn) where tp is the number of true positives and fn the number of false negatives.\n",
        "rs = recall_score(testY, predictY)\n",
        "print('precision: %f , recall: %f' % (ps, rs))\n",
        "\n",
        "from sklearn.metrics import precision_recall_fscore_support\n",
        "eval_result = precision_recall_fscore_support(testY, predictY, average='binary')\n",
        "print(eval_result)"
      ]
    }
  ],
  "metadata": {
    "kernelspec": {
      "display_name": "Python 3",
      "language": "python",
      "name": "python3"
    },
    "language_info": {
      "codemirror_mode": {
        "name": "ipython",
        "version": 3
      },
      "file_extension": ".py",
      "mimetype": "text/x-python",
      "name": "python",
      "nbconvert_exporter": "python",
      "pygments_lexer": "ipython3",
      "version": "3.8.8"
    },
    "colab": {
      "provenance": [],
      "include_colab_link": true
    }
  },
  "nbformat": 4,
  "nbformat_minor": 5
}